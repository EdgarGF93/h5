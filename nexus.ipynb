{
 "cells": [
  {
   "cell_type": "code",
   "execution_count": 1,
   "id": "8e263da6-20e8-4d1b-9104-f2f6a2b5f24c",
   "metadata": {},
   "outputs": [],
   "source": [
    "from nexus import create_h5_from_folder"
   ]
  },
  {
   "cell_type": "code",
   "execution_count": 2,
   "id": "860dbda3-5ef9-4174-bcaa-387894a365cb",
   "metadata": {},
   "outputs": [],
   "source": [
    "PATH = r\"C:\\Users\\edgar1993a\\Work Folders\\Documents\\Python\\pyxscat\\edf_examples\\test_NCD\"\n",
    "PATTERN = \"*.edf\""
   ]
  },
  {
   "cell_type": "code",
   "execution_count": 3,
   "id": "27c818eb-104a-449f-b55b-e2d2ccfcdbcb",
   "metadata": {},
   "outputs": [
    {
     "name": "stderr",
     "output_type": "stream",
     "text": [
      "WARNING:silx.utils.number:Not able to convert '1599824659.810397' using <class 'numpy.float64'> without losing precision\n",
      "WARNING:silx.utils.number:Not able to convert '1599824514.115650' using <class 'numpy.float64'> without losing precision\n",
      "WARNING:silx.utils.number:Not able to convert '2019.0568816752' using <class 'numpy.float64'> without losing precision\n",
      "WARNING:silx.utils.number:Not able to convert '2019.4551553847' using <class 'numpy.float64'> without losing precision\n",
      "WARNING:silx.utils.number:Not able to convert '2018.4425126088' using <class 'numpy.float64'> without losing precision\n",
      "WARNING:silx.utils.number:Not able to convert '1010.2840406201' using <class 'numpy.float64'> without losing precision\n",
      "WARNING:silx.utils.number:Not able to convert '201.90568816752324' using <class 'numpy.float64'> without losing precision\n",
      "WARNING:silx.utils.number:Not able to convert '201.84425126087766' using <class 'numpy.float64'> without losing precision\n",
      "WARNING:silx.utils.number:Not able to convert '203.1776376458658' using <class 'numpy.float64'> without losing precision\n",
      "WARNING:silx.utils.number:Not able to convert '202.0568081240106' using <class 'numpy.float64'> without losing precision\n"
     ]
    }
   ],
   "source": [
    "create_h5_from_folder(\n",
    "    directory=PATH, \n",
    "    pattern=PATTERN,\n",
    "    h5_file='xx.h5',\n",
    ")"
   ]
  },
  {
   "cell_type": "code",
   "execution_count": null,
   "id": "84cc69d8-4b2f-44db-a2c6-7178628cf4ed",
   "metadata": {},
   "outputs": [],
   "source": []
  },
  {
   "cell_type": "code",
   "execution_count": null,
   "id": "ca3deda2-f018-4d13-91cd-a4daf196dcf8",
   "metadata": {},
   "outputs": [],
   "source": []
  },
  {
   "cell_type": "code",
   "execution_count": 4,
   "id": "b1ffe535-8709-4b0a-a7ae-8003c3e82130",
   "metadata": {},
   "outputs": [],
   "source": [
    "from jupyterlab_h5web import H5Web"
   ]
  },
  {
   "cell_type": "code",
   "execution_count": 5,
   "id": "33219545-0e70-4940-a3e6-f083f8fb4d2d",
   "metadata": {},
   "outputs": [
    {
     "data": {
      "application/x-hdf5": "C:\\Users\\edgar1993a\\Work Folders\\Documents\\GitHub\\h5\\xx.h5",
      "text/plain": [
       "<jupyterlab_h5web.widget.H5Web object>"
      ]
     },
     "execution_count": 5,
     "metadata": {},
     "output_type": "execute_result"
    }
   ],
   "source": [
    "H5Web(\"xx.h5\")"
   ]
  },
  {
   "cell_type": "code",
   "execution_count": null,
   "id": "74b0c737-4198-4bad-98de-0e338272c4c8",
   "metadata": {},
   "outputs": [],
   "source": []
  }
 ],
 "metadata": {
  "kernelspec": {
   "display_name": "Python 3 (ipykernel)",
   "language": "python",
   "name": "python3"
  },
  "language_info": {
   "codemirror_mode": {
    "name": "ipython",
    "version": 3
   },
   "file_extension": ".py",
   "mimetype": "text/x-python",
   "name": "python",
   "nbconvert_exporter": "python",
   "pygments_lexer": "ipython3",
   "version": "3.10.9"
  },
  "vscode": {
   "interpreter": {
    "hash": "4bdba3ec9899ee7af99ee61058fad09dcf8227b12358ddc0da0dc8931dbc6faa"
   }
  }
 },
 "nbformat": 4,
 "nbformat_minor": 5
}
